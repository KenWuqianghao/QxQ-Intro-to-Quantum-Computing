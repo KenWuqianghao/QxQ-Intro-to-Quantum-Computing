{
 "cells": [
  {
   "cell_type": "markdown",
   "id": "d2497f68-e565-4dec-8d5e-ec337e37128e",
   "metadata": {},
   "source": [
    "<div style=\"text-align: center; margin: 50px\">\n",
    "\n",
    "<h1 style=\"text-align: center;\">Qubit by Qubit</h1>\n",
    "<h2 style=\"text-align: center;\">Introduction to Quantum Computing</h1>\n",
    "<h3>Week 6 - The QASM simulator on Qiskit</h3>\n",
    "<h3>Lab notebook</h3>\n",
    "\n",
    "</div>"
   ]
  },
  {
   "cell_type": "code",
   "execution_count": 1,
   "id": "863aa459-349d-43be-b305-f1ca757b4858",
   "metadata": {},
   "outputs": [
    {
     "name": "stderr",
     "output_type": "stream",
     "text": [
      "configrc.store_credentials:WARNING:2021-11-13 17:52:47,508: Credentials already present. Set overwrite=True to overwrite.\n"
     ]
    },
    {
     "name": "stdout",
     "output_type": "stream",
     "text": [
      "Libraries imported successfully!\n"
     ]
    }
   ],
   "source": [
    "# Importing standard Qiskit libraries\n",
    "from qiskit import QuantumCircuit  #Importing the QuantumCircuit function from Qiskit. We will use this to create our quantum circuits!\n",
    "\n",
    "# We will use these functions to run our circuit and visualize its final state\n",
    "from qiskit import Aer, execute, IBMQ \n",
    "from qiskit.visualization import *\n",
    "\n",
    "import warnings  # We are using this library to suppress some warning messages\n",
    "warnings.filterwarnings(\"ignore\")\n",
    "\n",
    "IBMQ.save_account('870eeeb889d85a9bbacd65a0b2a8bd50277ee28e503e88cf42491976800c461e43832918e8c77a49205898b3af56ccca89c22c0eeb8f184cde6390753e5e446b') \n",
    "IBMQ.load_account()\n",
    "\n",
    "print(\"Libraries imported successfully!\")"
   ]
  },
  {
   "cell_type": "code",
   "execution_count": 2,
   "id": "8960aede-1965-4905-92ba-4ee36f22855f",
   "metadata": {},
   "outputs": [
    {
     "data": {
      "text/plain": [
       "<qiskit.circuit.instructionset.InstructionSet at 0x7f0178a7b1c0>"
      ]
     },
     "execution_count": 2,
     "metadata": {},
     "output_type": "execute_result"
    }
   ],
   "source": [
    "# Block 1- Create a quantum circuit with 1 qubit and 1 classical bit. Add two X gates to your circuit.\n",
    "qc = QuantumCircuit(1,1)\n",
    "qc.x(0)\n",
    "qc.x(0)"
   ]
  },
  {
   "cell_type": "code",
   "execution_count": 3,
   "id": "7cde8cc7-c6a9-4ecd-adc6-7247efefd7c2",
   "metadata": {},
   "outputs": [
    {
     "data": {
      "text/html": [
       "<pre style=\"word-wrap: normal;white-space: pre;background: #fff0;line-height: 1.1;font-family: &quot;Courier New&quot;,Courier,monospace\">     ┌───┐┌───┐┌─┐\n",
       "q_0: ┤ X ├┤ X ├┤M├\n",
       "     └───┘└───┘└╥┘\n",
       "c: 1/═══════════╩═\n",
       "                0 </pre>"
      ],
      "text/plain": [
       "     ┌───┐┌───┐┌─┐\n",
       "q_0: ┤ X ├┤ X ├┤M├\n",
       "     └───┘└───┘└╥┘\n",
       "c: 1/═══════════╩═\n",
       "                0 "
      ]
     },
     "execution_count": 3,
     "metadata": {},
     "output_type": "execute_result"
    }
   ],
   "source": [
    "# Block 2 - Add measurements to your circuit and draw your circuit.\n",
    "qc.measure(0,0)\n",
    "qc.draw()"
   ]
  },
  {
   "cell_type": "code",
   "execution_count": 4,
   "id": "1562af52-fc2e-4f05-b153-b4e8db58476f",
   "metadata": {},
   "outputs": [],
   "source": [
    "# Block 3 - Step 3.1 - Setting up and running the QASM simulator.\n",
    "backend = Aer.get_backend('qasm_simulator') # Choosing the simulator we want to use\n",
    "job = execute(qc, backend, shots = 1024) # Running the simulator - specifying the circuit we want to simulate and the number of times we want to simulate it (shots)\n",
    "result = job.result() # Getting the result from the simulator\n"
   ]
  },
  {
   "cell_type": "code",
   "execution_count": 5,
   "id": "0265fd66-3c78-48c0-a8d2-c0349ef09407",
   "metadata": {},
   "outputs": [
    {
     "data": {
      "image/png": "[encoded data removed]",
      "text/plain": [
       "<Figure size 504x360 with 1 Axes>"
      ]
     },
     "execution_count": 5,
     "metadata": {},
     "output_type": "execute_result"
    }
   ],
   "source": [
    "# Block 4 - Step 3.2 - Visualizing the results of the QASM simulator \n",
    "counts = result.get_counts() # Getting the counts of 0 and 1 from the result\n",
    "plot_histogram(counts) # Plotting the counts of 0 and 1"
   ]
  },
  {
   "cell_type": "code",
   "execution_count": 6,
   "id": "63c31d83-6c40-481c-a319-dfba2c7b4849",
   "metadata": {},
   "outputs": [
    {
     "data": {
      "text/plain": [
       "<qiskit.circuit.instructionset.InstructionSet at 0x7f016bd16190>"
      ]
     },
     "execution_count": 6,
     "metadata": {},
     "output_type": "execute_result"
    }
   ],
   "source": [
    "# Block 5 - Create a quantum circuit with 1 qubit and 1 classical bit. Add an X gate and an H gate to the circuit. Add a measurement to the circuit and draw it.\n",
    "qc = QuantumCircuit(1,1)\n",
    "qc.x(0)\n",
    "qc.h(0)\n",
    "qc.measure(0,0)"
   ]
  },
  {
   "cell_type": "code",
   "execution_count": 7,
   "id": "2fef1ca4-8714-45ec-9b40-e61292dff9cc",
   "metadata": {},
   "outputs": [],
   "source": [
    "# Block 6 - Set up and run the circuit using the QASM simulator. You can copy the code from Block 3.\n",
    "backend = Aer.get_backend('qasm_simulator') # Choosing the simulator we want to use\n",
    "job = execute(qc, backend, shots = 1024) # Running the simulator - specifying the circuit we want to simulate and the number of times we want to simulate it (shots)\n",
    "result = job.result() # Getting the result from the simulator"
   ]
  },
  {
   "cell_type": "code",
   "execution_count": 8,
   "id": "4a2e0a20-17b1-4ef2-a454-5a13b4976d41",
   "metadata": {},
   "outputs": [
    {
     "data": {
      "image/png": "[encoded data removed]",
      "text/plain": [
       "<Figure size 504x360 with 1 Axes>"
      ]
     },
     "execution_count": 8,
     "metadata": {},
     "output_type": "execute_result"
    }
   ],
   "source": [
    "# Block 7 - Visualize the results of the circuit using the QASM simulator. You can copy the code from Block 4.\n",
    "counts = result.get_counts() # Getting the counts of 0 and 1 from the result\n",
    "plot_histogram(counts) # Plotting the counts of 0 and 1"
   ]
  },
  {
   "cell_type": "code",
   "execution_count": 9,
   "id": "ebbbe94f-f584-49b2-a94c-2d499870c45b",
   "metadata": {},
   "outputs": [
    {
     "data": {
      "text/plain": [
       "<qiskit.circuit.instructionset.InstructionSet at 0x7f016bfdd790>"
      ]
     },
     "execution_count": 9,
     "metadata": {},
     "output_type": "execute_result"
    }
   ],
   "source": [
    "# Block 8 - Create a quantum circuit with 1 qubit and 1 classical bit. Add two X gates to this circuit. Add a measurement to this circuit and draw it. \n",
    "qc = QuantumCircuit(1,1)\n",
    "qc.x(0)\n",
    "qc.h(0)\n",
    "qc.measure(0,0)"
   ]
  },
  {
   "cell_type": "code",
   "execution_count": 10,
   "id": "8d94f68e-9c72-440d-8a5d-ba5e9d190f82",
   "metadata": {},
   "outputs": [
    {
     "ename": "NameError",
     "evalue": "name 'provider' is not defined",
     "output_type": "error",
     "traceback": [
      "\u001b[0;31m---------------------------------------------------------------------------\u001b[0m",
      "\u001b[0;31mNameError\u001b[0m                                 Traceback (most recent call last)",
      "\u001b[0;32m/tmp/ipykernel_272023/2074300204.py\u001b[0m in \u001b[0;36m<module>\u001b[0;34m\u001b[0m\n\u001b[1;32m      1\u001b[0m \u001b[0;31m# Block 9 - Run this block to send your circuit to be run on a real quantum computer!\u001b[0m\u001b[0;34m\u001b[0m\u001b[0;34m\u001b[0m\u001b[0;34m\u001b[0m\u001b[0m\n\u001b[0;32m----> 2\u001b[0;31m \u001b[0mbackend\u001b[0m \u001b[0;34m=\u001b[0m \u001b[0mprovider\u001b[0m\u001b[0;34m.\u001b[0m\u001b[0mget_backend\u001b[0m\u001b[0;34m(\u001b[0m\u001b[0;34m'ibmq_armonk'\u001b[0m\u001b[0;34m)\u001b[0m \u001b[0;31m# This is the name of the real qc we will use\u001b[0m\u001b[0;34m\u001b[0m\u001b[0;34m\u001b[0m\u001b[0m\n\u001b[0m\u001b[1;32m      3\u001b[0m \u001b[0mjob\u001b[0m \u001b[0;34m=\u001b[0m \u001b[0mexecute\u001b[0m\u001b[0;34m(\u001b[0m\u001b[0mqc\u001b[0m\u001b[0;34m,\u001b[0m \u001b[0mbackend\u001b[0m\u001b[0;34m,\u001b[0m \u001b[0mshots\u001b[0m \u001b[0;34m=\u001b[0m \u001b[0;36m1024\u001b[0m\u001b[0;34m)\u001b[0m\u001b[0;34m\u001b[0m\u001b[0;34m\u001b[0m\u001b[0m\n\u001b[1;32m      4\u001b[0m \u001b[0mresult\u001b[0m \u001b[0;34m=\u001b[0m \u001b[0mjob\u001b[0m\u001b[0;34m.\u001b[0m\u001b[0mresult\u001b[0m\u001b[0;34m(\u001b[0m\u001b[0;34m)\u001b[0m\u001b[0;34m\u001b[0m\u001b[0;34m\u001b[0m\u001b[0m\n\u001b[1;32m      5\u001b[0m \u001b[0mcounts\u001b[0m \u001b[0;34m=\u001b[0m \u001b[0mresult\u001b[0m\u001b[0;34m.\u001b[0m\u001b[0mget_counts\u001b[0m\u001b[0;34m(\u001b[0m\u001b[0;34m)\u001b[0m\u001b[0;34m\u001b[0m\u001b[0;34m\u001b[0m\u001b[0m\n",
      "\u001b[0;31mNameError\u001b[0m: name 'provider' is not defined"
     ]
    }
   ],
   "source": [
    "# Block 9 - Run this block to send your circuit to be run on a real quantum computer!\n",
    "backend = provider.get_backend('ibmq_armonk') # This is the name of the real qc we will use\n",
    "job = execute(qc, backend, shots = 1024)\n",
    "result = job.result()\n",
    "counts = result.get_counts()\n",
    "plot_histogram(counts)"
   ]
  }
 ],
 "metadata": {
  "interpreter": {
   "hash": "c8681bd154e7f6f3b8ff0f412c41f1eee0d1c8429c4957e10af747a0b553bfb3"
  },
  "kernelspec": {
   "display_name": "Python 3.8.3 64-bit ('quantum': conda)",
   "name": "python3"
  },
  "language_info": {
   "codemirror_mode": {
    "name": "ipython",
    "version": 3
   },
   "file_extension": ".py",
   "mimetype": "text/x-python",
   "name": "python",
   "nbconvert_exporter": "python",
   "pygments_lexer": "ipython3",
   "version": "3.8.3"
  },
  "widgets": {
   "application/vnd.jupyter.widget-state+json": {
    "state": {},
    "version_major": 2,
    "version_minor": 0
   }
  }
 },
 "nbformat": 4,
 "nbformat_minor": 5
}
