{
 "cells": [
  {
   "cell_type": "markdown",
   "id": "d2497f68-e565-4dec-8d5e-ec337e37128e",
   "metadata": {},
   "source": [
    "<div style=\"text-align: center; margin: 50px\">\n",
    "\n",
    "<h1 style=\"text-align: center;\">Qubit by Qubit</h1>\n",
    "<h2 style=\"text-align: center;\">Introduction to Quantum Computing</h1>\n",
    "<h3>Week 7 - The Statevector simulator on Qiskit</h3>\n",
    "<h3>Lab notebook</h3>\n",
    "\n",
    "</div>"
   ]
  },
  {
   "cell_type": "code",
   "execution_count": 24,
   "id": "863aa459-349d-43be-b305-f1ca757b4858",
   "metadata": {},
   "outputs": [
    {
     "name": "stderr",
     "output_type": "stream",
     "text": [
      "configrc.store_credentials:WARNING:2021-11-13 17:52:02,546: Credentials already present. Set overwrite=True to overwrite.\n"
     ]
    },
    {
     "name": "stdout",
     "output_type": "stream",
     "text": [
      "Libraries imported successfully!\n"
     ]
    }
   ],
   "source": [
    "# Importing standard Qiskit libraries\n",
    "from qiskit import QuantumCircuit  #Importing the QuantumCircuit function from Qiskit. We will use this to create our quantum circuits!\n",
    "\n",
    "# We will use these functions to run our circuit and visualize its final state\n",
    "from qiskit import Aer, execute, IBMQ \n",
    "from qiskit.visualization import *\n",
    "from qiskit.visualization import array_to_latex\n",
    "\n",
    "\n",
    "import warnings  # We are using this library to suppress some warning messages\n",
    "warnings.filterwarnings(\"ignore\")\n",
    "\n",
    "IBMQ.save_account('4dc9a48a37597e50a5e221436c94436125aa41acfe1ec9ce2e019427d84d882f5612390df5e8e679c47952040701380b9786ee099187009709a78bfd06dab925') \n",
    "print(\"Libraries imported successfully!\")"
   ]
  },
  {
   "cell_type": "code",
   "execution_count": 25,
   "id": "8960aede-1965-4905-92ba-4ee36f22855f",
   "metadata": {},
   "outputs": [
    {
     "data": {
      "text/html": [
       "<pre style=\"word-wrap: normal;white-space: pre;background: #fff0;line-height: 1.1;font-family: &quot;Courier New&quot;,Courier,monospace\">     ┌───┐┌───┐\n",
       "q_0: ┤ X ├┤ H ├\n",
       "     └───┘└───┘\n",
       "c: 1/══════════\n",
       "               </pre>"
      ],
      "text/plain": [
       "     ┌───┐┌───┐\n",
       "q_0: ┤ X ├┤ H ├\n",
       "     └───┘└───┘\n",
       "c: 1/══════════\n",
       "               "
      ]
     },
     "execution_count": 25,
     "metadata": {},
     "output_type": "execute_result"
    }
   ],
   "source": [
    "# Block 1- Create a quantum circuit with 1 qubit. Add an X gate and an H gate to your circuit and draw it.\n",
    "qc = QuantumCircuit(1,1)\n",
    "qc.x(0)\n",
    "qc.h(0)\n",
    "qc.draw()"
   ]
  },
  {
   "cell_type": "code",
   "execution_count": 26,
   "id": "7cde8cc7-c6a9-4ecd-adc6-7247efefd7c2",
   "metadata": {},
   "outputs": [],
   "source": [
    "# Block 2 - Setting up and running the Statevector simulator.\n",
    "backend = Aer.get_backend('statevector_simulator') # Choosing the simulator we want to use\n",
    "job = execute(qc, backend) # Running the simulator - specifying the circuit we want to simulate\n",
    "result = job.result() # Getting the result from the simulator"
   ]
  },
  {
   "cell_type": "code",
   "execution_count": 27,
   "id": "1562af52-fc2e-4f05-b153-b4e8db58476f",
   "metadata": {},
   "outputs": [
    {
     "data": {
      "text/latex": [
       "$$\n",
       "\\text{Statevector} = \n",
       "\\begin{bmatrix}\n",
       "\\tfrac{1}{\\sqrt{2}} & -\\tfrac{1}{\\sqrt{2}}  \\\\\n",
       " \\end{bmatrix}\n",
       "$$"
      ],
      "text/plain": [
       "<IPython.core.display.Latex object>"
      ]
     },
     "execution_count": 27,
     "metadata": {},
     "output_type": "execute_result"
    }
   ],
   "source": [
    "# Block 3 - Step 3.2 - Visualizing the results of the Statevector simulator as a vector\n",
    "final_state = result.get_statevector()\n",
    "array_to_latex(final_state, prefix=\"\\\\text{Statevector} = \")"
   ]
  },
  {
   "cell_type": "code",
   "execution_count": 28,
   "id": "371da805-5d08-44c2-9b8e-24510dba4aa0",
   "metadata": {},
   "outputs": [
    {
     "data": {
      "image/png": "[encoded data removed]",
      "text/plain": [
       "<Figure size 504x360 with 1 Axes>"
      ]
     },
     "execution_count": 28,
     "metadata": {},
     "output_type": "execute_result"
    }
   ],
   "source": [
    "# Block 4 - Step 3.2 - Visualizing the results of the Statevector simulator as a graph\n",
    "counts = result.get_counts() # Getting the counts of 0 and 1 from the result\n",
    "plot_histogram(counts) # Plotting the counts of 0 and 1"
   ]
  },
  {
   "cell_type": "code",
   "execution_count": 29,
   "id": "63c31d83-6c40-481c-a319-dfba2c7b4849",
   "metadata": {},
   "outputs": [
    {
     "data": {
      "text/html": [
       "<pre style=\"word-wrap: normal;white-space: pre;background: #fff0;line-height: 1.1;font-family: &quot;Courier New&quot;,Courier,monospace\">     ┌───┐┌───┐\n",
       "q_0: ┤ H ├┤ Z ├\n",
       "     └───┘└───┘\n",
       "c: 1/══════════\n",
       "               </pre>"
      ],
      "text/plain": [
       "     ┌───┐┌───┐\n",
       "q_0: ┤ H ├┤ Z ├\n",
       "     └───┘└───┘\n",
       "c: 1/══════════\n",
       "               "
      ]
     },
     "execution_count": 29,
     "metadata": {},
     "output_type": "execute_result"
    }
   ],
   "source": [
    "# Block 5: Create a quantum circuit with 1 qubit. Add an H gate and a Z gate to the circuit. Draw the circuit.\n",
    "qc = QuantumCircuit(1,1)\n",
    "qc.h(0)\n",
    "qc.z(0)\n",
    "qc.draw()"
   ]
  },
  {
   "cell_type": "code",
   "execution_count": 30,
   "id": "2fef1ca4-8714-45ec-9b40-e61292dff9cc",
   "metadata": {},
   "outputs": [],
   "source": [
    "# Block 6: Set up and run the circuit using the Statevector simulator. You can copy the code from Block 2.\n",
    "backend = Aer.get_backend('statevector_simulator') # Choosing the simulator we want to use\n",
    "job = execute(qc, backend) # Running the simulator - specifying the circuit we want to simulate\n",
    "result = job.result() # Getting the result from the simulator"
   ]
  },
  {
   "cell_type": "code",
   "execution_count": 31,
   "id": "4a2e0a20-17b1-4ef2-a454-5a13b4976d41",
   "metadata": {},
   "outputs": [
    {
     "data": {
      "text/latex": [
       "$$\n",
       "\\text{Statevector} = \n",
       "\\begin{bmatrix}\n",
       "\\tfrac{1}{\\sqrt{2}} & -\\tfrac{1}{\\sqrt{2}}  \\\\\n",
       " \\end{bmatrix}\n",
       "$$"
      ],
      "text/plain": [
       "<IPython.core.display.Latex object>"
      ]
     },
     "execution_count": 31,
     "metadata": {},
     "output_type": "execute_result"
    }
   ],
   "source": [
    "# Block 7 - Visualize the results of the circuit as a vector using the Statevector simulator. \n",
    "# You can copy the code from Block 3.\n",
    "final_state = result.get_statevector()\n",
    "array_to_latex(final_state, prefix=\"\\\\text{Statevector} = \")"
   ]
  }
 ],
 "metadata": {
  "kernelspec": {
   "display_name": "Qiskit v0.31.0 (ipykernel)",
   "language": "python",
   "name": "python3"
  },
  "language_info": {
   "codemirror_mode": {
    "name": "ipython",
    "version": 3
   },
   "file_extension": ".py",
   "mimetype": "text/x-python",
   "name": "python",
   "nbconvert_exporter": "python",
   "pygments_lexer": "ipython3",
   "version": "3.8.3"
  },
  "widgets": {
   "application/vnd.jupyter.widget-state+json": {
    "state": {},
    "version_major": 2,
    "version_minor": 0
   }
  }
 },
 "nbformat": 4,
 "nbformat_minor": 5
}
