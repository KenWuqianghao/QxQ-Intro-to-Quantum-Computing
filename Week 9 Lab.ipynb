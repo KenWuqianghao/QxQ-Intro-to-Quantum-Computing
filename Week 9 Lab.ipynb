{
 "cells": [
  {
   "cell_type": "code",
   "execution_count": 30,
   "id": "6e68955c-e3f4-4698-966e-ae3292517356",
   "metadata": {},
   "outputs": [],
   "source": [
    "# Block 1 - Create a list named favorite_candy with your favorite candy! \n",
    "#Remember to put each candy’s name in quotes.\n",
    "candy = ['skittles','mars','m&m']"
   ]
  },
  {
   "cell_type": "code",
   "execution_count": 31,
   "id": "160551cd-559b-44a0-aaaa-a95131062ed8",
   "metadata": {},
   "outputs": [],
   "source": [
    "# Block 2 - Create a list name candy_rating with your ratings (on a scale of 5) for your favorite candies!\n",
    "rating = [5,4,3]"
   ]
  },
  {
   "cell_type": "code",
   "execution_count": 32,
   "id": "4ecbda85-d1f3-4e67-b11b-30c1243c6bea",
   "metadata": {},
   "outputs": [
    {
     "name": "stdout",
     "output_type": "stream",
     "text": [
      "['skittles', 'mars', 'm&m']\n",
      "[5, 4, 3]\n"
     ]
    }
   ],
   "source": [
    "# Block 3 - Print both lists you just created by using the print function.\n",
    "print(candy)\n",
    "print(rating)"
   ]
  },
  {
   "cell_type": "code",
   "execution_count": 33,
   "id": "da5a1768-7e65-4712-9a8c-101002dd39d7",
   "metadata": {},
   "outputs": [
    {
     "name": "stdout",
     "output_type": "stream",
     "text": [
      "skittles\n",
      "5\n"
     ]
    }
   ],
   "source": [
    "# Block 4 - Display the name of the first candy (index 0) you stored in the list favorite_candy. \n",
    "#Then, display its rating from the list candy_rating.\n",
    "print(candy[0])\n",
    "print(rating[0])"
   ]
  },
  {
   "cell_type": "code",
   "execution_count": 34,
   "id": "ba72eb59-08f0-4eb0-b5a1-cae76a28af4c",
   "metadata": {},
   "outputs": [],
   "source": [
    "# Block 5 - Add a new candy to your list of favorite candies.\n",
    "candy.append('reeses')"
   ]
  },
  {
   "cell_type": "code",
   "execution_count": 35,
   "id": "d66b3c4e-758a-4eb1-a7e7-85eeec0ead59",
   "metadata": {},
   "outputs": [
    {
     "name": "stdout",
     "output_type": "stream",
     "text": [
      "skittles\n",
      "mars\n",
      "m&m\n",
      "reeses\n"
     ]
    }
   ],
   "source": [
    "# Block 6 - Print the names of your favorite candies using a for loop.\n",
    "for name in candy:\n",
    "    print(name)"
   ]
  },
  {
   "cell_type": "code",
   "execution_count": 36,
   "id": "df49ac66-52db-47db-8d07-77d185ce2fed",
   "metadata": {},
   "outputs": [
    {
     "name": "stdout",
     "output_type": "stream",
     "text": [
      "5\n",
      "4\n",
      "3\n"
     ]
    }
   ],
   "source": [
    "# Block 7 - Now, print your ratings for each candy using a for loop\n",
    "for rate in rating:\n",
    "    print(rate)"
   ]
  },
  {
   "cell_type": "code",
   "execution_count": 37,
   "id": "3139f668-fc35-44c6-a98e-65a321f6a7d3",
   "metadata": {},
   "outputs": [
    {
     "name": "stdout",
     "output_type": "stream",
     "text": [
      "1\n",
      "2\n",
      "3\n",
      "4\n",
      "5\n",
      "6\n",
      "7\n",
      "8\n",
      "9\n",
      "10\n",
      "11\n",
      "12\n",
      "13\n",
      "14\n",
      "15\n",
      "16\n",
      "17\n",
      "18\n",
      "19\n",
      "20\n",
      "21\n",
      "22\n",
      "23\n",
      "24\n",
      "25\n",
      "26\n",
      "27\n",
      "28\n",
      "29\n",
      "30\n",
      "31\n",
      "32\n",
      "33\n",
      "34\n",
      "35\n",
      "36\n",
      "37\n",
      "38\n",
      "39\n",
      "40\n",
      "41\n",
      "42\n",
      "43\n",
      "44\n",
      "45\n",
      "46\n",
      "47\n",
      "48\n",
      "49\n",
      "50\n",
      "51\n",
      "52\n",
      "53\n",
      "54\n",
      "55\n",
      "56\n",
      "57\n",
      "58\n",
      "59\n",
      "60\n",
      "61\n",
      "62\n",
      "63\n",
      "64\n",
      "65\n",
      "66\n",
      "67\n",
      "68\n",
      "69\n",
      "70\n",
      "71\n",
      "72\n",
      "73\n",
      "74\n",
      "75\n",
      "76\n",
      "77\n",
      "78\n",
      "79\n",
      "80\n",
      "81\n",
      "82\n",
      "83\n",
      "84\n",
      "85\n",
      "86\n",
      "87\n",
      "88\n",
      "89\n",
      "90\n",
      "91\n",
      "92\n",
      "93\n",
      "94\n",
      "95\n",
      "96\n",
      "97\n",
      "98\n",
      "99\n",
      "100\n"
     ]
    }
   ],
   "source": [
    "# Block 8 - Print the numbers from 1 to 100 using the range function\n",
    "for i in range(1,101):\n",
    "    print(i)"
   ]
  },
  {
   "cell_type": "code",
   "execution_count": 38,
   "id": "e9a8ac8f-1361-4f2b-b378-66afdb521214",
   "metadata": {},
   "outputs": [
    {
     "name": "stdout",
     "output_type": "stream",
     "text": [
      "15\n",
      "16\n",
      "17\n",
      "18\n",
      "19\n",
      "20\n",
      "21\n",
      "22\n",
      "23\n",
      "24\n",
      "25\n",
      "26\n",
      "27\n",
      "28\n",
      "29\n"
     ]
    }
   ],
   "source": [
    "# Block 9 - Print the numbers from 15 to 29 using the range function\n",
    "for i in range(15,30):\n",
    "    print(i)"
   ]
  },
  {
   "cell_type": "code",
   "execution_count": 42,
   "id": "1cf995b0-9dfe-48bb-abe2-df938428dc6f",
   "metadata": {},
   "outputs": [
    {
     "data": {
      "text/html": [
       "<div>\n",
       "<style scoped>\n",
       "    .dataframe tbody tr th:only-of-type {\n",
       "        vertical-align: middle;\n",
       "    }\n",
       "\n",
       "    .dataframe tbody tr th {\n",
       "        vertical-align: top;\n",
       "    }\n",
       "\n",
       "    .dataframe thead th {\n",
       "        text-align: right;\n",
       "    }\n",
       "</style>\n",
       "<table border=\"1\" class=\"dataframe\">\n",
       "  <thead>\n",
       "    <tr style=\"text-align: right;\">\n",
       "      <th></th>\n",
       "      <th>0</th>\n",
       "    </tr>\n",
       "  </thead>\n",
       "  <tbody>\n",
       "    <tr>\n",
       "      <th>1</th>\n",
       "      <td>skittle</td>\n",
       "    </tr>\n",
       "  </tbody>\n",
       "</table>\n",
       "</div>"
      ],
      "text/plain": [
       "         0\n",
       "1  skittle"
      ]
     },
     "execution_count": 42,
     "metadata": {},
     "output_type": "execute_result"
    }
   ],
   "source": [
    "# Block 10 - FINAL PROJECT\n",
    "# We want to create a database of people’s rating of different candy. \n",
    "# Ask a user how many candies they want to enter and rate. \n",
    "# Then, ask the user for the name of each candy and its rating, storing each in separate lists. \n",
    "# Finally, print a chart of the name and ratings of the candy entered by the user.\n",
    "import pandas as pd\n",
    "\n",
    "num = int(input('How many candies do you want to enter:'))\n",
    "candy = []\n",
    "rating = []\n",
    "\n",
    "for i in range(0, num):\n",
    "    name = str(input('Name of the candy:'))\n",
    "    rate = int(input('Rating of the candy'))\n",
    "    candy.append(name)\n",
    "    rating.append(rate)\n",
    "\n",
    "chart = pd.DataFrame(candy, rating)\n",
    "chart"
   ]
  }
 ],
 "metadata": {
  "kernelspec": {
   "display_name": "Qiskit v0.32.1 (ipykernel)",
   "language": "python",
   "name": "python3"
  },
  "language_info": {
   "codemirror_mode": {
    "name": "ipython",
    "version": 3
   },
   "file_extension": ".py",
   "mimetype": "text/x-python",
   "name": "python",
   "nbconvert_exporter": "python",
   "pygments_lexer": "ipython3",
   "version": "3.9.5"
  },
  "widgets": {
   "application/vnd.jupyter.widget-state+json": {
    "state": {},
    "version_major": 2,
    "version_minor": 0
   }
  }
 },
 "nbformat": 4,
 "nbformat_minor": 5
}
