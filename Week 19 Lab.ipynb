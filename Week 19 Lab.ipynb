{
 "cells": [
  {
   "cell_type": "markdown",
   "id": "2b5624a2-65dd-4659-bcd3-d1fbed560d58",
   "metadata": {},
   "source": [
    "<div style=\"text-align: center; margin: 50px\">\n",
    "\n",
    "<h1 style=\"text-align: center;\">Qubit by Qubit</h1>\n",
    "<h2 style=\"text-align: center;\">Introduction to Quantum Computing</h1>\n",
    "<h3>Week 19 - Grover's Algorithm</h3>\n",
    "<h3>Lab notebook version 2</h3>\n",
    "\n",
    "</div>"
   ]
  },
  {
   "cell_type": "markdown",
   "id": "eb449362-eeb9-437f-a63c-84935c496bd1",
   "metadata": {},
   "source": [
    "# Introduction\n",
    "\n",
    "Ihis notebook, we will implement Grover's Algorithm using Qiskit's Grover function. The circuit for Grover's algorithm can get really complicated, as your TA discussed with you in lab. Therefore, instead of creating the circuit gate-by-gate, we are going to use a built-in function to make the circuit for us. This approach will allow us to focus on defining the size of the problem."
   ]
  },
  {
   "cell_type": "markdown",
   "id": "3c1ca0dc-e289-4f27-ae9f-af45ab1a170c",
   "metadata": {},
   "source": [
    "First, as usual, let's import the libraries we will need. You will notice some new libraries here - `AmplificationProblem`, `Grover`, and `Statevector`. These will all be used to implement Grover's Algorithm. We will describe what each library is used for when we use them."
   ]
  },
  {
   "cell_type": "code",
   "execution_count": 2,
   "id": "536b5e25-05bc-4923-8636-595d63809535",
   "metadata": {},
   "outputs": [
    {
     "name": "stderr",
     "output_type": "stream",
     "text": [
      "<frozen importlib._bootstrap>:219: RuntimeWarning: scipy._lib.messagestream.MessageStream size changed, may indicate binary incompatibility. Expected 56 from C header, got 64 from PyObject\n"
     ]
    },
    {
     "name": "stdout",
     "output_type": "stream",
     "text": [
      "Libraries Imported Successfully!\n"
     ]
    }
   ],
   "source": [
    "import numpy as np\n",
    "\n",
    "# Importing standard Qiskit libraries\n",
    "from qiskit import QuantumCircuit, transpile, Aer, IBMQ\n",
    "from qiskit.tools.jupyter import *\n",
    "from qiskit.visualization import *\n",
    "from ibm_quantum_widgets import *\n",
    "from qiskit.providers.aer import QasmSimulator\n",
    "from qiskit.algorithms import AmplificationProblem\n",
    "from qiskit.algorithms import Grover\n",
    "import math\n",
    "from qiskit.quantum_info import Statevector\n",
    "import matplotlib.pyplot as plt\n",
    "# Loading your IBM Quantum account(s)\n",
    "provider = IBMQ.load_account()\n",
    "\n",
    "print(\"Libraries Imported Successfully!\")"
   ]
  },
  {
   "cell_type": "markdown",
   "id": "20fb45c5-b363-4e12-8f62-3a4a90bca3f1",
   "metadata": {},
   "source": [
    "## Part 1 - Defining the size of the problem\n",
    "\n",
    "In this part, we will set up the search problem by specifying the number of choices we are searching through, and the choice we are searching for. Remember that in a search problem, we know what we are looking for - we just don't know where it is located.\n",
    "\n",
    "In the code below, we create a list called `data` to store the items we want to search through. We have to make sure that the number of choices we use is a power of 2, otherwise later code will produce errors. We recommend starting with 8 choices.\n",
    "\n",
    "Create a second variable named `correct_choice`, and give it the item you are searching for. So, for example, if you wanted to search for 3, you would write `correct_choice = 3'."
   ]
  },
  {
   "cell_type": "code",
   "execution_count": 3,
   "id": "59482dab-366e-41e3-bfd8-09a5542e772f",
   "metadata": {},
   "outputs": [],
   "source": [
    "# Block 1 - Create the variables data and correct_choice.\n",
    "# THIS BLOCK IS IMPORTANT - YOU HAVE TO FILL IN CODE IN THIS BLOCK TO COMPLETE IT \n",
    "# \n",
    "data = [1,5,7,4,3,2,0,6] # This is the dataset you want to search through\n",
    "\n",
    "correct_choice = 2 # Choice number you are searching for"
   ]
  },
  {
   "cell_type": "markdown",
   "id": "2e344f8a-6d55-49fb-8a43-6c74bfdd0434",
   "metadata": {},
   "source": [
    "### Question - For the number of choices you entered, how many qubits would be needed in Grover's algorithm?"
   ]
  },
  {
   "cell_type": "markdown",
   "id": "00411941-6714-457a-adc9-637b11d8b310",
   "metadata": {},
   "source": [
    "## Part 2 - Setting up the Grover problem\n",
    "\n",
    "In this part, we will use Qiskit's `AmplificationProblem` and `Grover` functions to set up Grover's search. `AmplificationProblem` sets up the oracle and defines the search problem. `Grover` solves the search problem by applying Grover's algorithm to it.\n",
    "\n",
    "First, we will define the search problem using `AmplificationProblem`. To do this, we have to create the Oracle. Remember from lecture that the Oracle flips the sign of the correct state. So, to create the oracle, we need to specify the correct state. Note that this oracle is different from the one in the lab 19 notebook - it searches for the actual number you want to find, and not its position.\n",
    "\n",
    "\n",
    "After we have created the oracle, we use it as a paramter in the `AmplificationProblem` function to create the search problem.\n",
    "\n",
    "The block below first creates the oracle, and then uses it to create the search problem. You don't need to enter any code here - just run the block."
   ]
  },
  {
   "cell_type": "code",
   "execution_count": 4,
   "id": "5854887d-fb47-4fe2-8518-bbd2c44fde67",
   "metadata": {},
   "outputs": [],
   "source": [
    "# Block 3 - Defining the grover problem using the AmplificationProblem function\n",
    "# In this step we define the problem we want to solve.\n",
    "# We use the correct choice to create the oracle matrix\n",
    "# The AmplificationProblem function defines the grover problem\n",
    "# YOU DO NOT NEED TO FILL IN ANY CODE HERE - JUST EXECUTE THE BLOCK\n",
    "\n",
    "sol = bin(data.index(correct_choice))[2:].zfill(3) # This is the item we are searching for\n",
    "oracle = Statevector.from_label(sol) # Creating the oracle matrix.\n",
    "problem = AmplificationProblem(oracle)"
   ]
  },
  {
   "cell_type": "markdown",
   "id": "da25b89a-38a9-4143-83cc-69ccad1a5ba4",
   "metadata": {},
   "source": [
    "Next, we will solve the search problem using Qiskit's `Grover` function. `Grover` needs two inputs - the number of iterations of the algorithm that you want to apply, and the backend you want to use.\n",
    "\n",
    "In the block below, we want to use the QASM simulator as the backend. To start off, we want to run 0 iterations of Grover's algorithm, i.e., we do not apply Grover's algorithm. Later, we will increase the number of iterations of Grover's algorithm and see how the measurement probabilities of different choices change!"
   ]
  },
  {
   "cell_type": "code",
   "execution_count": 5,
   "id": "8a504a84-e712-4d38-b10a-ae17f4cbdec9",
   "metadata": {},
   "outputs": [],
   "source": [
    "# Block 4 - Solving the Grover problem using the Grover function\n",
    "# Here we use the Grover function we had introduced in lab to solve the problem we had defined in the previous block\n",
    "# THIS BLOCK IS IMPORTANT - YOU HAVE TO FILL IN CODE IN THIS BLOCK TO COMPLETE IT\n",
    "backend = Aer.get_backend('qasm_simulator')# Enter the QASM simulator here\n",
    "grover = Grover(iterations=2, quantum_instance=backend) # Enter the number of iterations here\n",
    "result = grover.amplify(problem) # This line of code applies Grover's algorithm to the problem and gets the result"
   ]
  },
  {
   "cell_type": "markdown",
   "id": "5f64ea91-fa4f-4e60-a807-4347b5dc1a63",
   "metadata": {},
   "source": [
    "## Part 3 - Visualizing the results of Grover's algorithm\n",
    "\n",
    "In the final part of implementing Grover's, we will extract the results from running the algorithm and plot the results. The results will be shown in the form of the measurement probabilities of all the different choices. \n",
    "\n",
    "In the block below, the code is filled in. Just run the block and see what you get!"
   ]
  },
  {
   "cell_type": "code",
   "execution_count": 6,
   "id": "08512e20-956b-4a3c-bdc9-897cb5f4ce87",
   "metadata": {},
   "outputs": [
    {
     "data": {
      "image/png": "[encoded data removed]",
      "text/plain": [
       "<Figure size 720x360 with 1 Axes>"
      ]
     },
     "metadata": {},
     "output_type": "display_data"
    }
   ],
   "source": [
    "# Block 5 - Plotting the results of Grover's algorithm\n",
    "# YOU DO NOT NEED TO FILL IN ANY CODE HERE - JUST EXECUTE THE BLOCK\n",
    "\n",
    "# Extracting probabilities from the result of solving Grover\n",
    "counts = result.circuit_results[0]\n",
    "counts = counts.int_outcomes()\n",
    "\n",
    "# NB: CORRECT_CHOICE = 5 IS AT INDEX 1\n",
    "\n",
    "# Plotting probabilities \n",
    "# Don't worry about all the details of how the plot is made\n",
    "# All the code after the first line just makes the plot look nice\n",
    "plot = plot_histogram(counts,figsize=(10, 5))\n",
    "ax = plot.gca()\n",
    "xticks = []\n",
    "ax.set_xlabel(\"Index in the database\")\n",
    "display(plot)"
   ]
  },
  {
   "cell_type": "markdown",
   "id": "a7641506-0dcb-4ffd-9f15-77017632fe74",
   "metadata": {
    "tags": []
   },
   "source": [
    "### Question - What probabilities did you get, with iterations = 0? Does the result make sense?"
   ]
  },
  {
   "cell_type": "markdown",
   "id": "ff0e4eca-e60d-416d-9f02-6c0324f4c55f",
   "metadata": {},
   "source": [
    "You will notice that the probability of the correct choice increases as you increase the number of iterations! This is amplitude amplification in action."
   ]
  }
 ],
 "metadata": {
  "kernelspec": {
   "display_name": "Qiskit v0.34.2 (ipykernel)",
   "language": "python",
   "name": "python3"
  },
  "language_info": {
   "codemirror_mode": {
    "name": "ipython",
    "version": 3
   },
   "file_extension": ".py",
   "mimetype": "text/x-python",
   "name": "python",
   "nbconvert_exporter": "python",
   "pygments_lexer": "ipython3",
   "version": "3.8.12"
  },
  "widgets": {
   "application/vnd.jupyter.widget-state+json": {
    "state": {
     "00642e51d4004875824e64467385c5dc": {
      "model_module": "@jupyter-widgets/controls",
      "model_module_version": "1.5.0",
      "model_name": "DescriptionStyleModel",
      "state": {
       "description_width": ""
      }
     },
     "03fd2924cfce4d3c87c73f6c9a11af2b": {
      "model_module": "@jupyter-widgets/controls",
      "model_module_version": "1.5.0",
      "model_name": "HTMLModel",
      "state": {
       "layout": "IPY_MODEL_dbf47eb83782452b826bd0fdf5fbd0f4",
       "style": "IPY_MODEL_5f29a8e4dc64450d823c6d9e3b7bf62f",
       "value": "<h5>Queue</h5>"
      }
     },
     "113a0ab623b14494975287883bf02b36": {
      "model_module": "@jupyter-widgets/base",
      "model_module_version": "1.2.0",
      "model_name": "LayoutModel",
      "state": {
       "width": "95px"
      }
     },
     "1547398a0b574946826c6f016972650f": {
      "model_module": "@jupyter-widgets/base",
      "model_module_version": "1.2.0",
      "model_name": "LayoutModel",
      "state": {
       "width": "190px"
      }
     },
     "2dbda48824234b0e99b730896e961d22": {
      "model_module": "@jupyter-widgets/controls",
      "model_module_version": "1.5.0",
      "model_name": "HTMLModel",
      "state": {
       "layout": "IPY_MODEL_1547398a0b574946826c6f016972650f",
       "style": "IPY_MODEL_39dc2ed7bd7648009dac71514c7b0542",
       "value": "<h5>Job ID</h5>"
      }
     },
     "39dc2ed7bd7648009dac71514c7b0542": {
      "model_module": "@jupyter-widgets/controls",
      "model_module_version": "1.5.0",
      "model_name": "DescriptionStyleModel",
      "state": {
       "description_width": ""
      }
     },
     "5a06448d594e44bea8d79e2b573db19b": {
      "model_module": "@jupyter-widgets/controls",
      "model_module_version": "1.5.0",
      "model_name": "DescriptionStyleModel",
      "state": {
       "description_width": ""
      }
     },
     "5cf427e01f574f99912ac1d8c00b17c0": {
      "model_module": "@jupyter-widgets/base",
      "model_module_version": "1.2.0",
      "model_name": "LayoutModel",
      "state": {
       "grid_area": "right",
       "padding": "0px 0px 0px 0px",
       "width": "70px"
      }
     },
     "5f29a8e4dc64450d823c6d9e3b7bf62f": {
      "model_module": "@jupyter-widgets/controls",
      "model_module_version": "1.5.0",
      "model_name": "DescriptionStyleModel",
      "state": {
       "description_width": ""
      }
     },
     "75e3e2e5ed5d4ad9b75e1426eac98a44": {
      "model_module": "@jupyter-widgets/controls",
      "model_module_version": "1.5.0",
      "model_name": "ButtonModel",
      "state": {
       "button_style": "primary",
       "description": "Clear",
       "layout": "IPY_MODEL_5cf427e01f574f99912ac1d8c00b17c0",
       "style": "IPY_MODEL_a46ef62da3ff47da91f493e936184ff3"
      }
     },
     "8fdaf5c4187848d0a41001e356c6dde3": {
      "model_module": "@jupyter-widgets/controls",
      "model_module_version": "1.5.0",
      "model_name": "GridBoxModel",
      "state": {
       "children": [
        "IPY_MODEL_75e3e2e5ed5d4ad9b75e1426eac98a44"
       ],
       "layout": "IPY_MODEL_f57991fd1857484db07369bfc98983b7"
      }
     },
     "97408e97d72a4fd2bd35d42e0ee4698d": {
      "model_module": "@jupyter-widgets/controls",
      "model_module_version": "1.5.0",
      "model_name": "DescriptionStyleModel",
      "state": {
       "description_width": ""
      }
     },
     "a46ef62da3ff47da91f493e936184ff3": {
      "model_module": "@jupyter-widgets/controls",
      "model_module_version": "1.5.0",
      "model_name": "ButtonStyleModel",
      "state": {}
     },
     "a63a2d050b784f7e8a8617f1c218b1ca": {
      "model_module": "@jupyter-widgets/controls",
      "model_module_version": "1.5.0",
      "model_name": "HTMLModel",
      "state": {
       "layout": "IPY_MODEL_c89a6d7d95c1458385cdf5693ec0d774",
       "style": "IPY_MODEL_5a06448d594e44bea8d79e2b573db19b",
       "value": "<h5>Backend</h5>"
      }
     },
     "b5f98d7a955a4f9caa6d9a57dd192633": {
      "model_module": "@jupyter-widgets/controls",
      "model_module_version": "1.5.0",
      "model_name": "DescriptionStyleModel",
      "state": {
       "description_width": ""
      }
     },
     "c4fba8a74ef34dc5a9303ea39a970d9c": {
      "model_module": "@jupyter-widgets/controls",
      "model_module_version": "1.5.0",
      "model_name": "HTMLModel",
      "state": {
       "layout": "IPY_MODEL_e6d6e066a07b4e318341c13695e31458",
       "style": "IPY_MODEL_00642e51d4004875824e64467385c5dc",
       "value": "<h5>Message</h5>"
      }
     },
     "c89a6d7d95c1458385cdf5693ec0d774": {
      "model_module": "@jupyter-widgets/base",
      "model_module_version": "1.2.0",
      "model_name": "LayoutModel",
      "state": {
       "width": "145px"
      }
     },
     "d0325eae5fa14e87bf8b535ad1539d7a": {
      "model_module": "@jupyter-widgets/base",
      "model_module_version": "1.2.0",
      "model_name": "LayoutModel",
      "state": {
       "margin": "0px 0px 0px 37px",
       "width": "600px"
      }
     },
     "dbf47eb83782452b826bd0fdf5fbd0f4": {
      "model_module": "@jupyter-widgets/base",
      "model_module_version": "1.2.0",
      "model_name": "LayoutModel",
      "state": {
       "width": "70px"
      }
     },
     "e6d6e066a07b4e318341c13695e31458": {
      "model_module": "@jupyter-widgets/base",
      "model_module_version": "1.2.0",
      "model_name": "LayoutModel",
      "state": {}
     },
     "e8fc4b09135f45539617443149e7bb26": {
      "model_module": "@jupyter-widgets/controls",
      "model_module_version": "1.5.0",
      "model_name": "HBoxModel",
      "state": {
       "children": [
        "IPY_MODEL_2dbda48824234b0e99b730896e961d22",
        "IPY_MODEL_a63a2d050b784f7e8a8617f1c218b1ca",
        "IPY_MODEL_eb2aa9a904c84b598941561a5f1969f3",
        "IPY_MODEL_03fd2924cfce4d3c87c73f6c9a11af2b",
        "IPY_MODEL_c4fba8a74ef34dc5a9303ea39a970d9c"
       ],
       "layout": "IPY_MODEL_d0325eae5fa14e87bf8b535ad1539d7a"
      }
     },
     "eb2aa9a904c84b598941561a5f1969f3": {
      "model_module": "@jupyter-widgets/controls",
      "model_module_version": "1.5.0",
      "model_name": "HTMLModel",
      "state": {
       "layout": "IPY_MODEL_113a0ab623b14494975287883bf02b36",
       "style": "IPY_MODEL_97408e97d72a4fd2bd35d42e0ee4698d",
       "value": "<h5>Status</h5>"
      }
     },
     "f0ca4e20b8b0483a8f1a149be0d902f4": {
      "model_module": "@jupyter-widgets/base",
      "model_module_version": "1.2.0",
      "model_name": "LayoutModel",
      "state": {
       "margin": "0px 0px 10px 0px"
      }
     },
     "f46843f392d9447c82ebf22a8be0a294": {
      "model_module": "@jupyter-widgets/controls",
      "model_module_version": "1.5.0",
      "model_name": "HTMLModel",
      "state": {
       "layout": "IPY_MODEL_f0ca4e20b8b0483a8f1a149be0d902f4",
       "style": "IPY_MODEL_b5f98d7a955a4f9caa6d9a57dd192633",
       "value": "<p style='font-family: IBM Plex Sans, Arial, Helvetica, sans-serif; font-size: 20px; font-weight: medium;'>Circuit Properties</p>"
      }
     },
     "f57991fd1857484db07369bfc98983b7": {
      "model_module": "@jupyter-widgets/base",
      "model_module_version": "1.2.0",
      "model_name": "LayoutModel",
      "state": {
       "grid_template_areas": "\n                                       \". . . . right \"\n                                        ",
       "grid_template_columns": "20% 20% 20% 20% 20%",
       "width": "100%"
      }
     }
    },
    "version_major": 2,
    "version_minor": 0
   }
  }
 },
 "nbformat": 4,
 "nbformat_minor": 5
}
